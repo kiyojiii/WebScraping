{
 "cells": [
  {
   "cell_type": "code",
   "execution_count": 26,
   "id": "009393d6",
   "metadata": {},
   "outputs": [],
   "source": [
    "from bs4 import BeautifulSoup\n",
    "import pandas as pd\n",
    "import requests\n",
    "import urllib3"
   ]
  },
  {
   "cell_type": "code",
   "execution_count": 88,
   "id": "3396151c",
   "metadata": {},
   "outputs": [
    {
     "ename": "IndentationError",
     "evalue": "expected an indented block after 'for' statement on line 4 (1000201030.py, line 5)",
     "output_type": "error",
     "traceback": [
      "\u001b[1;36m  Cell \u001b[1;32mIn[88], line 5\u001b[1;36m\u001b[0m\n\u001b[1;33m    url = 'https://wovodat.phivolcs.dost.gov.ph/volcano/erupt-history?page='\u001b[0m\n\u001b[1;37m    ^\u001b[0m\n\u001b[1;31mIndentationError\u001b[0m\u001b[1;31m:\u001b[0m expected an indented block after 'for' statement on line 4\n"
     ]
    }
   ],
   "source": [
    "# Suppress the InsecureRequestWarning\n",
    "urllib3.disable_warnings(urllib3.exceptions.InsecureRequestWarning)\n",
    "\n",
    "url = 'https://wovodat.phivolcs.dost.gov.ph/volcano/erupt-history?page=1'\n",
    "page = requests.get(url), verify=False)\n",
    "\n",
    "soup = BeautifulSoup(page.text,'html.parser')\n"
   ]
  },
  {
   "cell_type": "code",
   "execution_count": 51,
   "id": "9ca0fff5",
   "metadata": {},
   "outputs": [
    {
     "data": {
      "text/plain": [
       "<table class=\"table table-striped table-bordered\"><thead>\n",
       "<tr><th>Name</th><th>Start Time</th><th>Eruption</th></tr><tr class=\"filters\" id=\"arrangement-gridview-filters\"><td> </td><td> </td><td> </td></tr>\n",
       "</thead>\n",
       "<tbody>\n",
       "<tr data-key=\"0\"><td>Bulusan</td><td>2022 Jun 12 03:37 AM</td><td>Phreatic</td></tr>\n",
       "<tr data-key=\"1\"><td>Bulusan</td><td>2022 Jun 05 10:37 AM</td><td>Phreatic</td></tr>\n",
       "<tr data-key=\"2\"><td>Taal</td><td>2021 Jul 01-2022 Mar 27</td><td>Phreatomagmatic bursts</td></tr>\n",
       "<tr data-key=\"3\"><td>Taal</td><td>2020 Jan 12 1:00 PM</td><td>Hydrovolcanic (phreatic, phreatomagmatic, hydrothermal)</td></tr>\n",
       "<tr data-key=\"4\"><td>Mayon</td><td>2018 Jan 13-Mar 18</td><td>*Lava fountaining</td></tr>\n",
       "<tr data-key=\"5\"><td>Kanlaon</td><td>2017 Dec 20 02:33 AM</td><td>Phreatic</td></tr>\n",
       "<tr data-key=\"6\"><td>Kanlaon</td><td>2017 Dec 9 09:47 AM</td><td>Phreatic</td></tr>\n",
       "<tr data-key=\"7\"><td>Bulusan</td><td>2017 Jun 5 10:29 PM</td><td>Phreatic</td></tr>\n",
       "<tr data-key=\"8\"><td>Bulusan</td><td>2017 Mar 2 01:57 PM - 02:23 PM</td><td>Phreatic</td></tr>\n",
       "<tr data-key=\"9\"><td>Bulusan</td><td>2016 Dec 29 14:40 PM</td><td>Phreatic</td></tr>\n",
       "<tr data-key=\"10\"><td>Bulusan</td><td>2016 Oct 23 15:31 PM</td><td>Phreatic</td></tr>\n",
       "<tr data-key=\"11\"><td>Bulusan</td><td>2016 Oct 21 00:34 AM</td><td>Phreatic</td></tr>\n",
       "<tr data-key=\"12\"><td>Bulusan</td><td>2016 Oct 19 04:58 AM</td><td>Phreatic</td></tr>\n",
       "<tr data-key=\"13\"><td>Bulusan</td><td>2016 Oct 17 07:36 AM</td><td>Phreatic</td></tr>\n",
       "<tr data-key=\"14\"><td>Bulusan</td><td>2016 Oct 16 03:03AM</td><td>Phreatic</td></tr>\n",
       "<tr data-key=\"15\"><td>Bulusan</td><td>2016 Sept 30 06:50AM</td><td>Phreatic</td></tr>\n",
       "<tr data-key=\"16\"><td>Bulusan</td><td>2016 Sept 16 16:54 PM</td><td>Phreatic</td></tr>\n",
       "<tr data-key=\"17\"><td>Bulusan</td><td>2016 Jun 19 1:03 PM</td><td>Phreatic</td></tr>\n",
       "<tr data-key=\"18\"><td>Kanlaon</td><td>2016 Jun 18 09:19 AM</td><td>Phreatic</td></tr>\n",
       "<tr data-key=\"19\"><td>Bulusan</td><td>2016 Jun 10 11:35 AM</td><td>Phreatic</td></tr>\n",
       "</tbody></table>"
      ]
     },
     "execution_count": 51,
     "metadata": {},
     "output_type": "execute_result"
    }
   ],
   "source": [
    "soup.find('table', class_ = 'table table-striped table-bordered')"
   ]
  },
  {
   "cell_type": "code",
   "execution_count": 50,
   "id": "0427bdfa",
   "metadata": {},
   "outputs": [
    {
     "data": {
      "text/plain": [
       "<table class=\"table table-striped table-bordered\"><thead>\n",
       "<tr><th>Name</th><th>Start Time</th><th>Eruption</th></tr><tr class=\"filters\" id=\"arrangement-gridview-filters\"><td> </td><td> </td><td> </td></tr>\n",
       "</thead>\n",
       "<tbody>\n",
       "<tr data-key=\"0\"><td>Bulusan</td><td>2022 Jun 12 03:37 AM</td><td>Phreatic</td></tr>\n",
       "<tr data-key=\"1\"><td>Bulusan</td><td>2022 Jun 05 10:37 AM</td><td>Phreatic</td></tr>\n",
       "<tr data-key=\"2\"><td>Taal</td><td>2021 Jul 01-2022 Mar 27</td><td>Phreatomagmatic bursts</td></tr>\n",
       "<tr data-key=\"3\"><td>Taal</td><td>2020 Jan 12 1:00 PM</td><td>Hydrovolcanic (phreatic, phreatomagmatic, hydrothermal)</td></tr>\n",
       "<tr data-key=\"4\"><td>Mayon</td><td>2018 Jan 13-Mar 18</td><td>*Lava fountaining</td></tr>\n",
       "<tr data-key=\"5\"><td>Kanlaon</td><td>2017 Dec 20 02:33 AM</td><td>Phreatic</td></tr>\n",
       "<tr data-key=\"6\"><td>Kanlaon</td><td>2017 Dec 9 09:47 AM</td><td>Phreatic</td></tr>\n",
       "<tr data-key=\"7\"><td>Bulusan</td><td>2017 Jun 5 10:29 PM</td><td>Phreatic</td></tr>\n",
       "<tr data-key=\"8\"><td>Bulusan</td><td>2017 Mar 2 01:57 PM - 02:23 PM</td><td>Phreatic</td></tr>\n",
       "<tr data-key=\"9\"><td>Bulusan</td><td>2016 Dec 29 14:40 PM</td><td>Phreatic</td></tr>\n",
       "<tr data-key=\"10\"><td>Bulusan</td><td>2016 Oct 23 15:31 PM</td><td>Phreatic</td></tr>\n",
       "<tr data-key=\"11\"><td>Bulusan</td><td>2016 Oct 21 00:34 AM</td><td>Phreatic</td></tr>\n",
       "<tr data-key=\"12\"><td>Bulusan</td><td>2016 Oct 19 04:58 AM</td><td>Phreatic</td></tr>\n",
       "<tr data-key=\"13\"><td>Bulusan</td><td>2016 Oct 17 07:36 AM</td><td>Phreatic</td></tr>\n",
       "<tr data-key=\"14\"><td>Bulusan</td><td>2016 Oct 16 03:03AM</td><td>Phreatic</td></tr>\n",
       "<tr data-key=\"15\"><td>Bulusan</td><td>2016 Sept 30 06:50AM</td><td>Phreatic</td></tr>\n",
       "<tr data-key=\"16\"><td>Bulusan</td><td>2016 Sept 16 16:54 PM</td><td>Phreatic</td></tr>\n",
       "<tr data-key=\"17\"><td>Bulusan</td><td>2016 Jun 19 1:03 PM</td><td>Phreatic</td></tr>\n",
       "<tr data-key=\"18\"><td>Kanlaon</td><td>2016 Jun 18 09:19 AM</td><td>Phreatic</td></tr>\n",
       "<tr data-key=\"19\"><td>Bulusan</td><td>2016 Jun 10 11:35 AM</td><td>Phreatic</td></tr>\n",
       "</tbody></table>"
      ]
     },
     "execution_count": 50,
     "metadata": {},
     "output_type": "execute_result"
    }
   ],
   "source": [
    "soup.find_all('table')[1]"
   ]
  },
  {
   "cell_type": "code",
   "execution_count": 54,
   "id": "c1031a92",
   "metadata": {},
   "outputs": [],
   "source": [
    "table = soup.find_all('table')[1]"
   ]
  },
  {
   "cell_type": "code",
   "execution_count": 55,
   "id": "eedd2d55",
   "metadata": {},
   "outputs": [
    {
     "name": "stdout",
     "output_type": "stream",
     "text": [
      "<table class=\"table table-striped table-bordered\"><thead>\n",
      "<tr><th>Name</th><th>Start Time</th><th>Eruption</th></tr><tr class=\"filters\" id=\"arrangement-gridview-filters\"><td> </td><td> </td><td> </td></tr>\n",
      "</thead>\n",
      "<tbody>\n",
      "<tr data-key=\"0\"><td>Bulusan</td><td>2022 Jun 12 03:37 AM</td><td>Phreatic</td></tr>\n",
      "<tr data-key=\"1\"><td>Bulusan</td><td>2022 Jun 05 10:37 AM</td><td>Phreatic</td></tr>\n",
      "<tr data-key=\"2\"><td>Taal</td><td>2021 Jul 01-2022 Mar 27</td><td>Phreatomagmatic bursts</td></tr>\n",
      "<tr data-key=\"3\"><td>Taal</td><td>2020 Jan 12 1:00 PM</td><td>Hydrovolcanic (phreatic, phreatomagmatic, hydrothermal)</td></tr>\n",
      "<tr data-key=\"4\"><td>Mayon</td><td>2018 Jan 13-Mar 18</td><td>*Lava fountaining</td></tr>\n",
      "<tr data-key=\"5\"><td>Kanlaon</td><td>2017 Dec 20 02:33 AM</td><td>Phreatic</td></tr>\n",
      "<tr data-key=\"6\"><td>Kanlaon</td><td>2017 Dec 9 09:47 AM</td><td>Phreatic</td></tr>\n",
      "<tr data-key=\"7\"><td>Bulusan</td><td>2017 Jun 5 10:29 PM</td><td>Phreatic</td></tr>\n",
      "<tr data-key=\"8\"><td>Bulusan</td><td>2017 Mar 2 01:57 PM - 02:23 PM</td><td>Phreatic</td></tr>\n",
      "<tr data-key=\"9\"><td>Bulusan</td><td>2016 Dec 29 14:40 PM</td><td>Phreatic</td></tr>\n",
      "<tr data-key=\"10\"><td>Bulusan</td><td>2016 Oct 23 15:31 PM</td><td>Phreatic</td></tr>\n",
      "<tr data-key=\"11\"><td>Bulusan</td><td>2016 Oct 21 00:34 AM</td><td>Phreatic</td></tr>\n",
      "<tr data-key=\"12\"><td>Bulusan</td><td>2016 Oct 19 04:58 AM</td><td>Phreatic</td></tr>\n",
      "<tr data-key=\"13\"><td>Bulusan</td><td>2016 Oct 17 07:36 AM</td><td>Phreatic</td></tr>\n",
      "<tr data-key=\"14\"><td>Bulusan</td><td>2016 Oct 16 03:03AM</td><td>Phreatic</td></tr>\n",
      "<tr data-key=\"15\"><td>Bulusan</td><td>2016 Sept 30 06:50AM</td><td>Phreatic</td></tr>\n",
      "<tr data-key=\"16\"><td>Bulusan</td><td>2016 Sept 16 16:54 PM</td><td>Phreatic</td></tr>\n",
      "<tr data-key=\"17\"><td>Bulusan</td><td>2016 Jun 19 1:03 PM</td><td>Phreatic</td></tr>\n",
      "<tr data-key=\"18\"><td>Kanlaon</td><td>2016 Jun 18 09:19 AM</td><td>Phreatic</td></tr>\n",
      "<tr data-key=\"19\"><td>Bulusan</td><td>2016 Jun 10 11:35 AM</td><td>Phreatic</td></tr>\n",
      "</tbody></table>\n"
     ]
    }
   ],
   "source": [
    "print(table)"
   ]
  },
  {
   "cell_type": "code",
   "execution_count": 65,
   "id": "2a90523b",
   "metadata": {},
   "outputs": [],
   "source": [
    "history_record_titles = table.find_all('th')"
   ]
  },
  {
   "cell_type": "code",
   "execution_count": 66,
   "id": "331622bb",
   "metadata": {},
   "outputs": [
    {
     "data": {
      "text/plain": [
       "[<th>Name</th>, <th>Start Time</th>, <th>Eruption</th>]"
      ]
     },
     "execution_count": 66,
     "metadata": {},
     "output_type": "execute_result"
    }
   ],
   "source": [
    "history_record_titles"
   ]
  },
  {
   "cell_type": "code",
   "execution_count": 67,
   "id": "ee23cd88",
   "metadata": {},
   "outputs": [],
   "source": [
    "history_table_titles = [title.text for title in history_record_titles]"
   ]
  },
  {
   "cell_type": "code",
   "execution_count": 70,
   "id": "67270635",
   "metadata": {},
   "outputs": [
    {
     "name": "stdout",
     "output_type": "stream",
     "text": [
      "['Name', 'Start Time', 'Eruption']\n"
     ]
    }
   ],
   "source": [
    "print(history_table_titles)"
   ]
  },
  {
   "cell_type": "code",
   "execution_count": 72,
   "id": "d01c9ff6",
   "metadata": {},
   "outputs": [
    {
     "data": {
      "text/html": [
       "<div>\n",
       "<style scoped>\n",
       "    .dataframe tbody tr th:only-of-type {\n",
       "        vertical-align: middle;\n",
       "    }\n",
       "\n",
       "    .dataframe tbody tr th {\n",
       "        vertical-align: top;\n",
       "    }\n",
       "\n",
       "    .dataframe thead th {\n",
       "        text-align: right;\n",
       "    }\n",
       "</style>\n",
       "<table border=\"1\" class=\"dataframe\">\n",
       "  <thead>\n",
       "    <tr style=\"text-align: right;\">\n",
       "      <th></th>\n",
       "      <th>Name</th>\n",
       "      <th>Start Time</th>\n",
       "      <th>Eruption</th>\n",
       "    </tr>\n",
       "  </thead>\n",
       "  <tbody>\n",
       "  </tbody>\n",
       "</table>\n",
       "</div>"
      ],
      "text/plain": [
       "Empty DataFrame\n",
       "Columns: [Name, Start Time, Eruption]\n",
       "Index: []"
      ]
     },
     "execution_count": 72,
     "metadata": {},
     "output_type": "execute_result"
    }
   ],
   "source": [
    "df = pd.DataFrame(columns = history_table_titles)\n",
    "df"
   ]
  },
  {
   "cell_type": "code",
   "execution_count": 73,
   "id": "06cbe9bf",
   "metadata": {},
   "outputs": [
    {
     "data": {
      "text/plain": [
       "[<tr><td colspan=\"3\" style=\"padding:0 5px\"><select class=\"form-control\" id=\"select-opt\" name=\"volcan\" style=\"width:150px\"><option value=\"\">Select Volcano</option><option value=\"593\">Babuyan Claro</option><option value=\"578\">Banahaw</option><option value=\"29\">Bud Dajo</option><option value=\"571\">Bulusan</option><option value=\"590\">Cagua</option><option value=\"592\">Didicas</option><option value=\"562\">Hibok-hibok</option><option value=\"595\">Iraya</option><option value=\"575\">Iriga</option><option value=\"565\">Kanlaon</option><option value=\"555\">Makaturing</option><option value=\"552\">Matutum</option><option value=\"574\">Mayon</option><option value=\"583\">Pinatubo</option><option value=\"558\">Ragang</option><option value=\"1610\">Smith</option><option value=\"580\">Taal</option></select></td></tr>,\n",
       " <tr><td> </td></tr>,\n",
       " <tr><td><span style=\"padding:0 5px\">Range:</span></td><td><input class=\"form-control\" id=\"sdate\" name=\"sdate\" placeholder=\"YYYY-MM-DD\" style=\"width:150px\" type=\"text\" value=\"\"/>\n",
       " </td><td style=\"padding:0 5px\"><input class=\"form-control\" id=\"edate\" name=\"edate\" placeholder=\"YYYY-MM-DD\" style=\"width:150px\" type=\"text\" value=\"\"/>\n",
       " </td><td style=\"padding:0 5px\"><button class=\"btn btn-primary\" id=\"btn-search\" name=\"btn-search\" type=\"submit\">Search</button></td></tr>,\n",
       " <tr><th>Name</th><th>Start Time</th><th>Eruption</th></tr>,\n",
       " <tr class=\"filters\" id=\"arrangement-gridview-filters\"><td> </td><td> </td><td> </td></tr>,\n",
       " <tr data-key=\"0\"><td>Bulusan</td><td>2022 Jun 12 03:37 AM</td><td>Phreatic</td></tr>,\n",
       " <tr data-key=\"1\"><td>Bulusan</td><td>2022 Jun 05 10:37 AM</td><td>Phreatic</td></tr>,\n",
       " <tr data-key=\"2\"><td>Taal</td><td>2021 Jul 01-2022 Mar 27</td><td>Phreatomagmatic bursts</td></tr>,\n",
       " <tr data-key=\"3\"><td>Taal</td><td>2020 Jan 12 1:00 PM</td><td>Hydrovolcanic (phreatic, phreatomagmatic, hydrothermal)</td></tr>,\n",
       " <tr data-key=\"4\"><td>Mayon</td><td>2018 Jan 13-Mar 18</td><td>*Lava fountaining</td></tr>,\n",
       " <tr data-key=\"5\"><td>Kanlaon</td><td>2017 Dec 20 02:33 AM</td><td>Phreatic</td></tr>,\n",
       " <tr data-key=\"6\"><td>Kanlaon</td><td>2017 Dec 9 09:47 AM</td><td>Phreatic</td></tr>,\n",
       " <tr data-key=\"7\"><td>Bulusan</td><td>2017 Jun 5 10:29 PM</td><td>Phreatic</td></tr>,\n",
       " <tr data-key=\"8\"><td>Bulusan</td><td>2017 Mar 2 01:57 PM - 02:23 PM</td><td>Phreatic</td></tr>,\n",
       " <tr data-key=\"9\"><td>Bulusan</td><td>2016 Dec 29 14:40 PM</td><td>Phreatic</td></tr>,\n",
       " <tr data-key=\"10\"><td>Bulusan</td><td>2016 Oct 23 15:31 PM</td><td>Phreatic</td></tr>,\n",
       " <tr data-key=\"11\"><td>Bulusan</td><td>2016 Oct 21 00:34 AM</td><td>Phreatic</td></tr>,\n",
       " <tr data-key=\"12\"><td>Bulusan</td><td>2016 Oct 19 04:58 AM</td><td>Phreatic</td></tr>,\n",
       " <tr data-key=\"13\"><td>Bulusan</td><td>2016 Oct 17 07:36 AM</td><td>Phreatic</td></tr>,\n",
       " <tr data-key=\"14\"><td>Bulusan</td><td>2016 Oct 16 03:03AM</td><td>Phreatic</td></tr>,\n",
       " <tr data-key=\"15\"><td>Bulusan</td><td>2016 Sept 30 06:50AM</td><td>Phreatic</td></tr>,\n",
       " <tr data-key=\"16\"><td>Bulusan</td><td>2016 Sept 16 16:54 PM</td><td>Phreatic</td></tr>,\n",
       " <tr data-key=\"17\"><td>Bulusan</td><td>2016 Jun 19 1:03 PM</td><td>Phreatic</td></tr>,\n",
       " <tr data-key=\"18\"><td>Kanlaon</td><td>2016 Jun 18 09:19 AM</td><td>Phreatic</td></tr>,\n",
       " <tr data-key=\"19\"><td>Bulusan</td><td>2016 Jun 10 11:35 AM</td><td>Phreatic</td></tr>]"
      ]
     },
     "execution_count": 73,
     "metadata": {},
     "output_type": "execute_result"
    }
   ],
   "source": [
    "soup.find_all('tr')"
   ]
  },
  {
   "cell_type": "code",
   "execution_count": 74,
   "id": "c1a9c722",
   "metadata": {},
   "outputs": [],
   "source": [
    "column_data = table.find_all('tr')"
   ]
  },
  {
   "cell_type": "code",
   "execution_count": 85,
   "id": "1938bb23",
   "metadata": {},
   "outputs": [],
   "source": [
    "for row in column_data[2:]:\n",
    "    row_data = row.find_all('td')\n",
    "    individual_row_data = [data.text.strip() for data in row_data]\n",
    "    \n",
    "    length = len(df)\n",
    "    df.loc[length] = individual_row_data"
   ]
  },
  {
   "cell_type": "code",
   "execution_count": 86,
   "id": "225c3d90",
   "metadata": {},
   "outputs": [
    {
     "data": {
      "text/html": [
       "<div>\n",
       "<style scoped>\n",
       "    .dataframe tbody tr th:only-of-type {\n",
       "        vertical-align: middle;\n",
       "    }\n",
       "\n",
       "    .dataframe tbody tr th {\n",
       "        vertical-align: top;\n",
       "    }\n",
       "\n",
       "    .dataframe thead th {\n",
       "        text-align: right;\n",
       "    }\n",
       "</style>\n",
       "<table border=\"1\" class=\"dataframe\">\n",
       "  <thead>\n",
       "    <tr style=\"text-align: right;\">\n",
       "      <th></th>\n",
       "      <th>Name</th>\n",
       "      <th>Start Time</th>\n",
       "      <th>Eruption</th>\n",
       "    </tr>\n",
       "  </thead>\n",
       "  <tbody>\n",
       "    <tr>\n",
       "      <th>0</th>\n",
       "      <td>Bulusan</td>\n",
       "      <td>2022 Jun 12 03:37 AM</td>\n",
       "      <td>Phreatic</td>\n",
       "    </tr>\n",
       "    <tr>\n",
       "      <th>1</th>\n",
       "      <td>Bulusan</td>\n",
       "      <td>2022 Jun 05 10:37 AM</td>\n",
       "      <td>Phreatic</td>\n",
       "    </tr>\n",
       "    <tr>\n",
       "      <th>2</th>\n",
       "      <td>Taal</td>\n",
       "      <td>2021 Jul 01-2022 Mar 27</td>\n",
       "      <td>Phreatomagmatic bursts</td>\n",
       "    </tr>\n",
       "    <tr>\n",
       "      <th>3</th>\n",
       "      <td>Taal</td>\n",
       "      <td>2020 Jan 12 1:00 PM</td>\n",
       "      <td>Hydrovolcanic (phreatic, phreatomagmatic, hydr...</td>\n",
       "    </tr>\n",
       "    <tr>\n",
       "      <th>4</th>\n",
       "      <td>Mayon</td>\n",
       "      <td>2018 Jan 13-Mar 18</td>\n",
       "      <td>*Lava fountaining</td>\n",
       "    </tr>\n",
       "    <tr>\n",
       "      <th>5</th>\n",
       "      <td>Kanlaon</td>\n",
       "      <td>2017 Dec 20 02:33 AM</td>\n",
       "      <td>Phreatic</td>\n",
       "    </tr>\n",
       "    <tr>\n",
       "      <th>6</th>\n",
       "      <td>Kanlaon</td>\n",
       "      <td>2017 Dec 9 09:47 AM</td>\n",
       "      <td>Phreatic</td>\n",
       "    </tr>\n",
       "    <tr>\n",
       "      <th>7</th>\n",
       "      <td>Bulusan</td>\n",
       "      <td>2017 Jun 5 10:29 PM</td>\n",
       "      <td>Phreatic</td>\n",
       "    </tr>\n",
       "    <tr>\n",
       "      <th>8</th>\n",
       "      <td>Bulusan</td>\n",
       "      <td>2017 Mar 2 01:57 PM - 02:23 PM</td>\n",
       "      <td>Phreatic</td>\n",
       "    </tr>\n",
       "    <tr>\n",
       "      <th>9</th>\n",
       "      <td>Bulusan</td>\n",
       "      <td>2016 Dec 29 14:40 PM</td>\n",
       "      <td>Phreatic</td>\n",
       "    </tr>\n",
       "    <tr>\n",
       "      <th>10</th>\n",
       "      <td>Bulusan</td>\n",
       "      <td>2016 Oct 23 15:31 PM</td>\n",
       "      <td>Phreatic</td>\n",
       "    </tr>\n",
       "    <tr>\n",
       "      <th>11</th>\n",
       "      <td>Bulusan</td>\n",
       "      <td>2016 Oct 21 00:34 AM</td>\n",
       "      <td>Phreatic</td>\n",
       "    </tr>\n",
       "    <tr>\n",
       "      <th>12</th>\n",
       "      <td>Bulusan</td>\n",
       "      <td>2016 Oct 19 04:58 AM</td>\n",
       "      <td>Phreatic</td>\n",
       "    </tr>\n",
       "    <tr>\n",
       "      <th>13</th>\n",
       "      <td>Bulusan</td>\n",
       "      <td>2016 Oct 17 07:36 AM</td>\n",
       "      <td>Phreatic</td>\n",
       "    </tr>\n",
       "    <tr>\n",
       "      <th>14</th>\n",
       "      <td>Bulusan</td>\n",
       "      <td>2016 Oct 16 03:03AM</td>\n",
       "      <td>Phreatic</td>\n",
       "    </tr>\n",
       "    <tr>\n",
       "      <th>15</th>\n",
       "      <td>Bulusan</td>\n",
       "      <td>2016 Sept 30 06:50AM</td>\n",
       "      <td>Phreatic</td>\n",
       "    </tr>\n",
       "    <tr>\n",
       "      <th>16</th>\n",
       "      <td>Bulusan</td>\n",
       "      <td>2016 Sept 16 16:54 PM</td>\n",
       "      <td>Phreatic</td>\n",
       "    </tr>\n",
       "    <tr>\n",
       "      <th>17</th>\n",
       "      <td>Bulusan</td>\n",
       "      <td>2016 Jun 19 1:03 PM</td>\n",
       "      <td>Phreatic</td>\n",
       "    </tr>\n",
       "    <tr>\n",
       "      <th>18</th>\n",
       "      <td>Kanlaon</td>\n",
       "      <td>2016 Jun 18 09:19 AM</td>\n",
       "      <td>Phreatic</td>\n",
       "    </tr>\n",
       "    <tr>\n",
       "      <th>19</th>\n",
       "      <td>Bulusan</td>\n",
       "      <td>2016 Jun 10 11:35 AM</td>\n",
       "      <td>Phreatic</td>\n",
       "    </tr>\n",
       "  </tbody>\n",
       "</table>\n",
       "</div>"
      ],
      "text/plain": [
       "       Name                      Start Time  \\\n",
       "0   Bulusan            2022 Jun 12 03:37 AM   \n",
       "1   Bulusan            2022 Jun 05 10:37 AM   \n",
       "2      Taal         2021 Jul 01-2022 Mar 27   \n",
       "3      Taal             2020 Jan 12 1:00 PM   \n",
       "4     Mayon              2018 Jan 13-Mar 18   \n",
       "5   Kanlaon            2017 Dec 20 02:33 AM   \n",
       "6   Kanlaon             2017 Dec 9 09:47 AM   \n",
       "7   Bulusan             2017 Jun 5 10:29 PM   \n",
       "8   Bulusan  2017 Mar 2 01:57 PM - 02:23 PM   \n",
       "9   Bulusan            2016 Dec 29 14:40 PM   \n",
       "10  Bulusan            2016 Oct 23 15:31 PM   \n",
       "11  Bulusan            2016 Oct 21 00:34 AM   \n",
       "12  Bulusan            2016 Oct 19 04:58 AM   \n",
       "13  Bulusan            2016 Oct 17 07:36 AM   \n",
       "14  Bulusan             2016 Oct 16 03:03AM   \n",
       "15  Bulusan            2016 Sept 30 06:50AM   \n",
       "16  Bulusan           2016 Sept 16 16:54 PM   \n",
       "17  Bulusan             2016 Jun 19 1:03 PM   \n",
       "18  Kanlaon            2016 Jun 18 09:19 AM   \n",
       "19  Bulusan            2016 Jun 10 11:35 AM   \n",
       "\n",
       "                                             Eruption  \n",
       "0                                            Phreatic  \n",
       "1                                            Phreatic  \n",
       "2                              Phreatomagmatic bursts  \n",
       "3   Hydrovolcanic (phreatic, phreatomagmatic, hydr...  \n",
       "4                                   *Lava fountaining  \n",
       "5                                            Phreatic  \n",
       "6                                            Phreatic  \n",
       "7                                            Phreatic  \n",
       "8                                            Phreatic  \n",
       "9                                            Phreatic  \n",
       "10                                           Phreatic  \n",
       "11                                           Phreatic  \n",
       "12                                           Phreatic  \n",
       "13                                           Phreatic  \n",
       "14                                           Phreatic  \n",
       "15                                           Phreatic  \n",
       "16                                           Phreatic  \n",
       "17                                           Phreatic  \n",
       "18                                           Phreatic  \n",
       "19                                           Phreatic  "
      ]
     },
     "execution_count": 86,
     "metadata": {},
     "output_type": "execute_result"
    }
   ],
   "source": [
    "df"
   ]
  },
  {
   "cell_type": "code",
   "execution_count": 87,
   "id": "1731964c",
   "metadata": {},
   "outputs": [],
   "source": [
    "df.to_csv(r'C:\\Users\\user\\Desktop\\Web Scraping\\Test.csv', index = False)"
   ]
  },
  {
   "cell_type": "code",
   "execution_count": null,
   "id": "190f2f1d",
   "metadata": {},
   "outputs": [],
   "source": []
  }
 ],
 "metadata": {
  "kernelspec": {
   "display_name": "Python 3 (ipykernel)",
   "language": "python",
   "name": "python3"
  },
  "language_info": {
   "codemirror_mode": {
    "name": "ipython",
    "version": 3
   },
   "file_extension": ".py",
   "mimetype": "text/x-python",
   "name": "python",
   "nbconvert_exporter": "python",
   "pygments_lexer": "ipython3",
   "version": "3.10.10"
  }
 },
 "nbformat": 4,
 "nbformat_minor": 5
}
