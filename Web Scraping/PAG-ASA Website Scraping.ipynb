{
 "cells": [
  {
   "cell_type": "code",
   "execution_count": 1,
   "id": "715c9c59",
   "metadata": {},
   "outputs": [],
   "source": [
    "from selenium import webdriver\n",
    "from selenium.webdriver.common.by import By\n",
    "from selenium.webdriver.support.ui import WebDriverWait\n",
    "from selenium.webdriver.support import expected_conditions as EC\n",
    "import pandas as pd "
   ]
  },
  {
   "cell_type": "code",
   "execution_count": 26,
   "id": "1395da42",
   "metadata": {},
   "outputs": [],
   "source": [
    "# Specify the path to the Microsoft Edge WebDriver executable\n",
    "edge_driver_path = 'C:\\webdrivers\\msedgedriver.exe'\n",
    "\n",
    "# Create an EdgeDriverService instance with the executable path\n",
    "service = webdriver.edge.service.Service(edge_driver_path)\n",
    "\n",
    "# Create an Endge WebDriver instance using the service\n",
    "driver = webdriver.Edge(service=service)\n",
    "\n",
    "# Navigate to the desired webpage\n",
    "driver.get('https://www.deped.gov.ph/k-to-12/senior-high-school/list-of-senior-high-schools/')\n",
    "\n",
    "# Maximize the browser window\n",
    "driver.maximize_window()"
   ]
  },
  {
   "cell_type": "code",
   "execution_count": 40,
   "id": "8381f50b",
   "metadata": {},
   "outputs": [],
   "source": [
    "#DEPED LIST OF SCHOOLS\n",
    "taxonomy = driver.find_elements(By.XPATH,'//tbody/tr[2]/td[1]')\n",
    "municipality = driver.find_elements(By.XPATH,'//tbody/tr[2]/td[2]')\n",
    "school_id = driver.find_elements(By.XPATH,'//tbody/tr[2]/td[3]')\n",
    "school_name = driver.find_elements(By.XPATH,'//tbody/tr[2]/td[4]')\n",
    "program_offerings = driver.find_elements(By.XPATH,'//tbody/tr[2]/td[5]')"
   ]
  },
  {
   "cell_type": "code",
   "execution_count": 41,
   "id": "7e08ed42",
   "metadata": {},
   "outputs": [],
   "source": [
    "deped_results = []"
   ]
  },
  {
   "cell_type": "code",
   "execution_count": 42,
   "id": "572f6797",
   "metadata": {},
   "outputs": [
    {
     "ename": "IndexError",
     "evalue": "list index out of range",
     "output_type": "error",
     "traceback": [
      "\u001b[1;31m---------------------------------------------------------------------------\u001b[0m",
      "\u001b[1;31mIndexError\u001b[0m                                Traceback (most recent call last)",
      "Cell \u001b[1;32mIn[42], line 8\u001b[0m\n\u001b[0;32m      1\u001b[0m \u001b[38;5;66;03m# Iterate over the elements to extract List of Schools data\u001b[39;00m\n\u001b[0;32m      2\u001b[0m \u001b[38;5;28;01mfor\u001b[39;00m i \u001b[38;5;129;01min\u001b[39;00m \u001b[38;5;28mrange\u001b[39m(\u001b[38;5;28mlen\u001b[39m(taxonomy)):\n\u001b[0;32m      3\u001b[0m     deped_records \u001b[38;5;241m=\u001b[39m {\n\u001b[0;32m      4\u001b[0m         \u001b[38;5;124m'\u001b[39m\u001b[38;5;124mTaxonomy\u001b[39m\u001b[38;5;124m'\u001b[39m: taxonomy[i]\u001b[38;5;241m.\u001b[39mtext,\n\u001b[0;32m      5\u001b[0m         \u001b[38;5;124m'\u001b[39m\u001b[38;5;124mMunicipality\u001b[39m\u001b[38;5;124m'\u001b[39m: municipality[i]\u001b[38;5;241m.\u001b[39mtext,\n\u001b[0;32m      6\u001b[0m         \u001b[38;5;124m'\u001b[39m\u001b[38;5;124mSchool_ID\u001b[39m\u001b[38;5;124m'\u001b[39m: school_id[i]\u001b[38;5;241m.\u001b[39mtext,\n\u001b[0;32m      7\u001b[0m         \u001b[38;5;124m'\u001b[39m\u001b[38;5;124mSchool_Name\u001b[39m\u001b[38;5;124m'\u001b[39m: school_name[i]\u001b[38;5;241m.\u001b[39mtext,\n\u001b[1;32m----> 8\u001b[0m         \u001b[38;5;124m'\u001b[39m\u001b[38;5;124mProgram_Offerings\u001b[39m\u001b[38;5;124m'\u001b[39m: \u001b[43mprogram_offerings\u001b[49m\u001b[43m[\u001b[49m\u001b[43mi\u001b[49m\u001b[43m]\u001b[49m\u001b[38;5;241m.\u001b[39mtext,\n\u001b[0;32m      9\u001b[0m     }\n\u001b[0;32m     11\u001b[0m     deped_results\u001b[38;5;241m.\u001b[39mappend(deped_records)\n",
      "\u001b[1;31mIndexError\u001b[0m: list index out of range"
     ]
    }
   ],
   "source": [
    "# Iterate over the elements to extract List of Schools data\n",
    "for i in range(len(taxonomy)):\n",
    "    deped_records = {\n",
    "        'Taxonomy': taxonomy[i].text,\n",
    "        'Municipality': municipality[i].text,\n",
    "        'School_ID': school_id[i].text,\n",
    "        'School_Name': school_name[i].text,\n",
    "        'Program_Offerings': program_offerings[i].text,\n",
    "    }\n",
    "\n",
    "    deped_results.append(deped_records)"
   ]
  },
  {
   "cell_type": "code",
   "execution_count": null,
   "id": "04cbfb5f",
   "metadata": {},
   "outputs": [],
   "source": [
    "dataframe_deped = pd.DataFrame(deped_results)"
   ]
  },
  {
   "cell_type": "code",
   "execution_count": null,
   "id": "190b27b2",
   "metadata": {},
   "outputs": [],
   "source": [
    "dataframe_deped"
   ]
  },
  {
   "cell_type": "code",
   "execution_count": null,
   "id": "d7a2fd72",
   "metadata": {},
   "outputs": [],
   "source": []
  },
  {
   "cell_type": "code",
   "execution_count": null,
   "id": "2086fb44",
   "metadata": {},
   "outputs": [],
   "source": []
  },
  {
   "cell_type": "code",
   "execution_count": null,
   "id": "029b5b01",
   "metadata": {},
   "outputs": [],
   "source": []
  }
 ],
 "metadata": {
  "kernelspec": {
   "display_name": "Python 3 (ipykernel)",
   "language": "python",
   "name": "python3"
  },
  "language_info": {
   "codemirror_mode": {
    "name": "ipython",
    "version": 3
   },
   "file_extension": ".py",
   "mimetype": "text/x-python",
   "name": "python",
   "nbconvert_exporter": "python",
   "pygments_lexer": "ipython3",
   "version": "3.10.10"
  }
 },
 "nbformat": 4,
 "nbformat_minor": 5
}
