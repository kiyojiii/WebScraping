{
 "cells": [
  {
   "cell_type": "code",
   "execution_count": 1,
   "id": "50e71cd3",
   "metadata": {},
   "outputs": [],
   "source": [
    "import pandas as pd\n",
    "from selenium import webdriver\n",
    "from selenium.webdriver.common.by import By"
   ]
  },
  {
   "cell_type": "code",
   "execution_count": 2,
   "id": "f23c54b6",
   "metadata": {},
   "outputs": [],
   "source": [
    "pk_name = []\n",
    "pk_type = []\n",
    "pk_hp = []\n",
    "pk_att = []\n",
    "pk_def = []\n",
    "pk_satt = []\n",
    "pk_sdef = []\n",
    "pk_speed = []\n",
    "pk_total = []"
   ]
  },
  {
   "cell_type": "code",
   "execution_count": 5,
   "id": "94c1d76b",
   "metadata": {},
   "outputs": [],
   "source": [
    "driver = webdriver.Chrome()"
   ]
  },
  {
   "cell_type": "code",
   "execution_count": 6,
   "id": "acf75cc2",
   "metadata": {},
   "outputs": [
    {
     "ename": "NoSuchWindowException",
     "evalue": "Message: no such window: target window already closed\nfrom unknown error: web view not found\n  (Session info: chrome=116.0.5845.187)\nStacktrace:\n\tGetHandleVerifier [0x00007FF60A5652A2+57122]\n\t(No symbol) [0x00007FF60A4DEA92]\n\t(No symbol) [0x00007FF60A3AE3AB]\n\t(No symbol) [0x00007FF60A38E1B9]\n\t(No symbol) [0x00007FF60A40B417]\n\t(No symbol) [0x00007FF60A41E24F]\n\t(No symbol) [0x00007FF60A406DB3]\n\t(No symbol) [0x00007FF60A3DD2B1]\n\t(No symbol) [0x00007FF60A3DE494]\n\tGetHandleVerifier [0x00007FF60A80EF82+2849794]\n\tGetHandleVerifier [0x00007FF60A861D24+3189156]\n\tGetHandleVerifier [0x00007FF60A85ACAF+3160367]\n\tGetHandleVerifier [0x00007FF60A5F6D06+653702]\n\t(No symbol) [0x00007FF60A4EA208]\n\t(No symbol) [0x00007FF60A4E62C4]\n\t(No symbol) [0x00007FF60A4E63F6]\n\t(No symbol) [0x00007FF60A4D67A3]\n\tBaseThreadInitThunk [0x00007FFC568A7614+20]\n\tRtlUserThreadStart [0x00007FFC586026B1+33]\n",
     "output_type": "error",
     "traceback": [
      "\u001b[1;31m---------------------------------------------------------------------------\u001b[0m",
      "\u001b[1;31mNoSuchWindowException\u001b[0m                     Traceback (most recent call last)",
      "Cell \u001b[1;32mIn[6], line 1\u001b[0m\n\u001b[1;32m----> 1\u001b[0m \u001b[43mdriver\u001b[49m\u001b[38;5;241;43m.\u001b[39;49m\u001b[43mget\u001b[49m\u001b[43m(\u001b[49m\u001b[38;5;124;43m'\u001b[39;49m\u001b[38;5;124;43mhttps://pokemondb.net/pokedex/all\u001b[39;49m\u001b[38;5;124;43m'\u001b[39;49m\u001b[43m)\u001b[49m\n",
      "File \u001b[1;32m~\\AppData\\Local\\Programs\\Python\\Python310\\lib\\site-packages\\selenium\\webdriver\\remote\\webdriver.py:353\u001b[0m, in \u001b[0;36mWebDriver.get\u001b[1;34m(self, url)\u001b[0m\n\u001b[0;32m    351\u001b[0m \u001b[38;5;28;01mdef\u001b[39;00m \u001b[38;5;21mget\u001b[39m(\u001b[38;5;28mself\u001b[39m, url: \u001b[38;5;28mstr\u001b[39m) \u001b[38;5;241m-\u001b[39m\u001b[38;5;241m>\u001b[39m \u001b[38;5;28;01mNone\u001b[39;00m:\n\u001b[0;32m    352\u001b[0m \u001b[38;5;250m    \u001b[39m\u001b[38;5;124;03m\"\"\"Loads a web page in the current browser session.\"\"\"\u001b[39;00m\n\u001b[1;32m--> 353\u001b[0m     \u001b[38;5;28;43mself\u001b[39;49m\u001b[38;5;241;43m.\u001b[39;49m\u001b[43mexecute\u001b[49m\u001b[43m(\u001b[49m\u001b[43mCommand\u001b[49m\u001b[38;5;241;43m.\u001b[39;49m\u001b[43mGET\u001b[49m\u001b[43m,\u001b[49m\u001b[43m \u001b[49m\u001b[43m{\u001b[49m\u001b[38;5;124;43m\"\u001b[39;49m\u001b[38;5;124;43murl\u001b[39;49m\u001b[38;5;124;43m\"\u001b[39;49m\u001b[43m:\u001b[49m\u001b[43m \u001b[49m\u001b[43murl\u001b[49m\u001b[43m}\u001b[49m\u001b[43m)\u001b[49m\n",
      "File \u001b[1;32m~\\AppData\\Local\\Programs\\Python\\Python310\\lib\\site-packages\\selenium\\webdriver\\remote\\webdriver.py:344\u001b[0m, in \u001b[0;36mWebDriver.execute\u001b[1;34m(self, driver_command, params)\u001b[0m\n\u001b[0;32m    342\u001b[0m response \u001b[38;5;241m=\u001b[39m \u001b[38;5;28mself\u001b[39m\u001b[38;5;241m.\u001b[39mcommand_executor\u001b[38;5;241m.\u001b[39mexecute(driver_command, params)\n\u001b[0;32m    343\u001b[0m \u001b[38;5;28;01mif\u001b[39;00m response:\n\u001b[1;32m--> 344\u001b[0m     \u001b[38;5;28;43mself\u001b[39;49m\u001b[38;5;241;43m.\u001b[39;49m\u001b[43merror_handler\u001b[49m\u001b[38;5;241;43m.\u001b[39;49m\u001b[43mcheck_response\u001b[49m\u001b[43m(\u001b[49m\u001b[43mresponse\u001b[49m\u001b[43m)\u001b[49m\n\u001b[0;32m    345\u001b[0m     response[\u001b[38;5;124m\"\u001b[39m\u001b[38;5;124mvalue\u001b[39m\u001b[38;5;124m\"\u001b[39m] \u001b[38;5;241m=\u001b[39m \u001b[38;5;28mself\u001b[39m\u001b[38;5;241m.\u001b[39m_unwrap_value(response\u001b[38;5;241m.\u001b[39mget(\u001b[38;5;124m\"\u001b[39m\u001b[38;5;124mvalue\u001b[39m\u001b[38;5;124m\"\u001b[39m, \u001b[38;5;28;01mNone\u001b[39;00m))\n\u001b[0;32m    346\u001b[0m     \u001b[38;5;28;01mreturn\u001b[39;00m response\n",
      "File \u001b[1;32m~\\AppData\\Local\\Programs\\Python\\Python310\\lib\\site-packages\\selenium\\webdriver\\remote\\errorhandler.py:229\u001b[0m, in \u001b[0;36mErrorHandler.check_response\u001b[1;34m(self, response)\u001b[0m\n\u001b[0;32m    227\u001b[0m         alert_text \u001b[38;5;241m=\u001b[39m value[\u001b[38;5;124m\"\u001b[39m\u001b[38;5;124malert\u001b[39m\u001b[38;5;124m\"\u001b[39m]\u001b[38;5;241m.\u001b[39mget(\u001b[38;5;124m\"\u001b[39m\u001b[38;5;124mtext\u001b[39m\u001b[38;5;124m\"\u001b[39m)\n\u001b[0;32m    228\u001b[0m     \u001b[38;5;28;01mraise\u001b[39;00m exception_class(message, screen, stacktrace, alert_text)  \u001b[38;5;66;03m# type: ignore[call-arg]  # mypy is not smart enough here\u001b[39;00m\n\u001b[1;32m--> 229\u001b[0m \u001b[38;5;28;01mraise\u001b[39;00m exception_class(message, screen, stacktrace)\n",
      "\u001b[1;31mNoSuchWindowException\u001b[0m: Message: no such window: target window already closed\nfrom unknown error: web view not found\n  (Session info: chrome=116.0.5845.187)\nStacktrace:\n\tGetHandleVerifier [0x00007FF60A5652A2+57122]\n\t(No symbol) [0x00007FF60A4DEA92]\n\t(No symbol) [0x00007FF60A3AE3AB]\n\t(No symbol) [0x00007FF60A38E1B9]\n\t(No symbol) [0x00007FF60A40B417]\n\t(No symbol) [0x00007FF60A41E24F]\n\t(No symbol) [0x00007FF60A406DB3]\n\t(No symbol) [0x00007FF60A3DD2B1]\n\t(No symbol) [0x00007FF60A3DE494]\n\tGetHandleVerifier [0x00007FF60A80EF82+2849794]\n\tGetHandleVerifier [0x00007FF60A861D24+3189156]\n\tGetHandleVerifier [0x00007FF60A85ACAF+3160367]\n\tGetHandleVerifier [0x00007FF60A5F6D06+653702]\n\t(No symbol) [0x00007FF60A4EA208]\n\t(No symbol) [0x00007FF60A4E62C4]\n\t(No symbol) [0x00007FF60A4E63F6]\n\t(No symbol) [0x00007FF60A4D67A3]\n\tBaseThreadInitThunk [0x00007FFC568A7614+20]\n\tRtlUserThreadStart [0x00007FFC586026B1+33]\n"
     ]
    }
   ],
   "source": [
    "driver.get('https://pokemondb.net/pokedex/all')\n",
    "name"
   ]
  },
  {
   "cell_type": "code",
   "execution_count": null,
   "id": "9e7befdd",
   "metadata": {},
   "outputs": [],
   "source": []
  }
 ],
 "metadata": {
  "kernelspec": {
   "display_name": "Python 3 (ipykernel)",
   "language": "python",
   "name": "python3"
  },
  "language_info": {
   "codemirror_mode": {
    "name": "ipython",
    "version": 3
   },
   "file_extension": ".py",
   "mimetype": "text/x-python",
   "name": "python",
   "nbconvert_exporter": "python",
   "pygments_lexer": "ipython3",
   "version": "3.10.10"
  }
 },
 "nbformat": 4,
 "nbformat_minor": 5
}
